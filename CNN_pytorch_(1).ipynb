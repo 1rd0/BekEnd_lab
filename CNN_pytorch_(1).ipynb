{
  "cells": [
    {
      "cell_type": "markdown",
      "metadata": {
        "id": "view-in-github",
        "colab_type": "text"
      },
      "source": [
        "<a href=\"https://colab.research.google.com/github/1rd0/BekEnd_lab/blob/master/CNN_pytorch_(1).ipynb\" target=\"_parent\"><img src=\"https://colab.research.google.com/assets/colab-badge.svg\" alt=\"Open In Colab\"/></a>"
      ]
    },
    {
      "cell_type": "markdown",
      "metadata": {
        "id": "wmvF4blMS-Iw"
      },
      "source": [
        "# Лабораторная работа №6\n",
        "\n",
        "**Сверточные нейронные сети**\n",
        "\n",
        "---\n",
        "\n",
        "**Впишите в эту ячейку ваши ФИО, группу**.\n",
        "\n",
        "ФИО:Рабдел Дмитрий Александрович\n",
        "\n",
        "Группа:221-371\n",
        "\n",
        "---\n"
      ]
    },
    {
      "cell_type": "markdown",
      "metadata": {
        "id": "2JW2lM4yYXio"
      },
      "source": [
        "## Загрузка данных\n",
        "\n",
        "В данной работе будет использоваться учебный датасет с изображениями персонажей из Симпсонов. Код для скачивания и распаковки приведен ниже, его требуется только выполнить и вo вкладке Files должна появиться папка `data`, а в ней папки `train` и `test`."
      ]
    },
    {
      "cell_type": "code",
      "execution_count": 32,
      "metadata": {
        "colab": {
          "base_uri": "https://localhost:8080/"
        },
        "id": "BhBI_Y2iVHqO",
        "outputId": "3f6f9b69-e559-4e38-f4b6-d4e9e65513a3"
      },
      "outputs": [
        {
          "output_type": "stream",
          "name": "stdout",
          "text": [
            "File ‘rgb-test.zip’ already there; not retrieving.\n",
            "\n",
            "File ‘rgb-train.zip’ already there; not retrieving.\n",
            "\n",
            "CPU times: user 32.3 ms, sys: 3.11 ms, total: 35.4 ms\n",
            "Wall time: 1.53 s\n"
          ]
        }
      ],
      "source": [
        "%%time\n",
        "\n",
        "! wget -nc http://labcolor.space/rgb-test.zip\n",
        "! unzip -o -q rgb-test.zip -d data\n",
        "! wget -nc http://labcolor.space/rgb-train.zip\n",
        "! unzip -o -q rgb-train.zip -d data"
      ]
    },
    {
      "cell_type": "markdown",
      "metadata": {
        "id": "WWExBZ0FZj1E"
      },
      "source": [
        "## Создание объекта Dataset\n",
        "\n",
        "Так как изображения в датасете организованы по папкам, где имя папки является ярлыком для данных, то мы можем воспользоваться базовым классом `ImageFolder`.\n",
        "\n",
        "Одним из параметров является `transform`, для которого необходимо скомпоновать преобразования для наших изображений. В pytorch для преобразований сейчас есть два набора функций V1 и V2 и рекомендуется использовать V2, хоть напротив многих функций указано состояние beta.\n",
        "\n",
        "Для компоновки функции из модуля v2 используйте `Compose`. Вам понадобится обязательно:\n",
        "* ToImage() - преобразование в `Image` (подкласс torch.Tensor)\n",
        "* RandomVerticalFlip() - случайное отзеркаливание\n",
        "* ToDtype(torch.float32, scale=True) - преобразование из int во float\n",
        "* Normalize() - нормализация изображений по полученным средним и стандартным отклонениям.\n",
        "\n",
        "По желанию:\n",
        "* RandomRotation() - поворот на случайный угол в указанном диапазоне\n",
        "* Можете попробовать и другие варианты преобразований. [Документация API V2](https://pytorch.org/vision/stable/transforms.html#v2-api-reference-recommended)\n",
        "\n",
        "В качестве примера будет показана работа с созданием Dataset для получения статистик изображения. Вам же необходимо будет создать `transforms` для обучения и проверки. При обучении вы используете весь набор обязательных преобразований, при обучении вам требуется только преобразовать изображение к тензору с плавающей точкой и провести нормализацию."
      ]
    },
    {
      "cell_type": "markdown",
      "metadata": {
        "id": "2s7NaAvVHH6V"
      },
      "source": [
        "### Получение статистик для нормализации"
      ]
    },
    {
      "cell_type": "code",
      "execution_count": 33,
      "metadata": {
        "id": "HHN2GrMjalJy"
      },
      "outputs": [],
      "source": [
        "\n",
        "import torch\n",
        "import torchvision\n",
        "from torchvision.transforms import v2\n",
        "\n",
        "transforms_stats = v2.Compose([\n",
        "    v2.ToImage(),\n",
        "    v2.ToDtype(torch.float32, scale=True),v2.RandomVerticalFlip()\n",
        "])"
      ]
    },
    {
      "cell_type": "code",
      "execution_count": 34,
      "metadata": {
        "id": "28mPRQLMHCnd"
      },
      "outputs": [],
      "source": [
        "from torchvision.datasets import ImageFolder\n",
        "\n",
        "stats_dataset = ImageFolder(root=\"./data/train\", transform=transforms_stats)"
      ]
    },
    {
      "cell_type": "code",
      "execution_count": 35,
      "metadata": {
        "id": "F73DC1a6HByF",
        "colab": {
          "base_uri": "https://localhost:8080/"
        },
        "outputId": "d90a000b-5870-4c4c-f4e7-1aae60569359"
      },
      "outputs": [
        {
          "output_type": "stream",
          "name": "stdout",
          "text": [
            "Means R, G, B: (0.46520424, 0.40914688, 0.35447767)\n",
            "Std R, G, B: (0.24928054, 0.22941431, 0.2450912)\n"
          ]
        }
      ],
      "source": [
        "imgs = [item[0] for item in stats_dataset]\n",
        "imgs = torch.stack(imgs, dim=0).numpy()\n",
        "\n",
        "mean_r = imgs[:,0,:,:].mean()\n",
        "mean_g = imgs[:,1,:,:].mean()\n",
        "mean_b = imgs[:,2,:,:].mean()\n",
        "print(f\"Means R, G, B: {mean_r,mean_g,mean_b}\")\n",
        "\n",
        "std_r = imgs[:,0,:,:].std()\n",
        "std_g = imgs[:,1,:,:].std()\n",
        "std_b = imgs[:,2,:,:].std()\n",
        "print(f\"Std R, G, B: {std_r,std_g,std_b}\")"
      ]
    },
    {
      "cell_type": "markdown",
      "metadata": {
        "id": "6Z7YQmBiHehJ"
      },
      "source": [
        "**Почему значения средних и стандартных отклонений мы получаем только для обучающей выборки?**\n",
        "\n",
        "Ваш ответ:избежать утечки информации из тестового набора данных в процесс обучения модели.\n",
        "\n",
        "\n",
        "\n",
        "\n",
        "---\n",
        "\n",
        "\n",
        "Используйте выведенные выше значения средних и стандартных отклонений в качестве аргументов функции `Normalize`.\n",
        "\n",
        "значений пикселей изображения к определенным стандартным значениям, что помогает улучшить обучение модели и повысить ее производительность.\n",
        "\n"
      ]
    },
    {
      "cell_type": "code",
      "execution_count": 36,
      "metadata": {
        "id": "E9zeyUxyGcrZ"
      },
      "outputs": [],
      "source": [
        "from torchvision.transforms import RandomVerticalFlip\n",
        "from torchvision.transforms import Normalize\n",
        "\n",
        "transforms_train = v2.Compose([\n",
        "#\n",
        "# Ваш код\n",
        "#v2.Compose([\n",
        "    v2.ToImage(),\n",
        "    v2.ToDtype(torch.float32, scale=True),\n",
        "    RandomVerticalFlip(),\n",
        "    Normalize((mean_r, mean_g, mean_b), (std_r, std_g, std_b)),\n",
        "])\n",
        "\n",
        "transforms_test = v2.Compose([\n",
        "#\n",
        "# Ваш код\n",
        "#v2.Compose([\n",
        "    v2.ToImage(),\n",
        "    v2.ToDtype(torch.float32, scale=True)\n",
        "    , RandomVerticalFlip()\n",
        "\n",
        "])"
      ]
    },
    {
      "cell_type": "markdown",
      "metadata": {
        "id": "QVSanpdBlJpP"
      },
      "source": [
        "Теперь, когда есть необходимые `transforms` можно создать ImageFolder, указав в `root` путь до выборки и `transforms` в `transform`."
      ]
    },
    {
      "cell_type": "code",
      "execution_count": 37,
      "metadata": {
        "id": "jnrdWtQCZHY1"
      },
      "outputs": [],
      "source": [
        "train_dataset =  ImageFolder(root=\"/content/data/train\", transform=transforms_test) #  Ваш код\n",
        "\n",
        "# по аналогии создайте датасет для проверочной части\n",
        "\n",
        "#\n",
        "test_dataset = ImageFolder(root=\"/content/data/test\", transform=transforms_test)\n",
        "#"
      ]
    },
    {
      "cell_type": "code",
      "execution_count": 38,
      "metadata": {
        "id": "KIMD10uQd14C",
        "colab": {
          "base_uri": "https://localhost:8080/"
        },
        "outputId": "804f0d86-257a-4816-c453-6428c7e4def2"
      },
      "outputs": [
        {
          "output_type": "stream",
          "name": "stdout",
          "text": [
            "Количество изображений в обучающей выборке: 8000\n",
            "Количество изображений в проверочной выборке: 2000\n",
            "Количество классов в данных: 10\n",
            "Размеры и каналы изображений: torch.Size([3, 28, 28])\n"
          ]
        }
      ],
      "source": [
        "# Количество изображений в обучающей и проверочной выборках\n",
        "num_train_images = len(train_dataset)\n",
        "num_test_images = len(test_dataset)\n",
        "\n",
        "# Количество классов в данных\n",
        "num_classes = len(train_dataset.classes)\n",
        "\n",
        "print(\"Количество изображений в обучающей выборке:\", num_train_images)\n",
        "print(\"Количество изображений в проверочной выборке:\", num_test_images)\n",
        "print(\"Количество классов в данных:\", num_classes)\n",
        "\n",
        "# Размеры и каналы изображений (первого изображения в обучающей выборке)\n",
        "sample_image, _ = train_dataset[0]\n",
        "image_shape = sample_image.shape\n",
        "\n",
        "print(\"Размеры и каналы изображений:\", image_shape)\n"
      ]
    },
    {
      "cell_type": "markdown",
      "metadata": {
        "id": "OhGqUh4youqC"
      },
      "source": [
        "## Создание DataLoader\n",
        "\n",
        "Далее необходимо подготовить три загрузчика данных:\n",
        "\n",
        "1. Обучающий\n",
        "2. Проверочный\n",
        "3. Тестовый\n",
        "\n",
        "Тестовый загрузчик делается из тестового Dataset, а обучающий и проверочный необходимо создать, используя [SubsetRandomSampler](https://pytorch.org/docs/stable/data.html#torch.utils.data.SubsetRandomSampler), для его работы требуется массив индексов, по которым в дальнейшем загрузчик будет в случайном порядке брать изображения и лейблы."
      ]
    },
    {
      "cell_type": "code",
      "execution_count": 39,
      "metadata": {
        "id": "7_S19XDhmdhP"
      },
      "outputs": [],
      "source": [
        "import numpy as np\n",
        "from torch.utils.data.sampler import SubsetRandomSampler\n",
        "\n",
        "val_size = 0.2\n",
        "\n",
        "train_samples = len(train_dataset)\n",
        "train_indices = list(range(train_samples))\n",
        "\n",
        "split_value = int(np.floor(val_size * train_samples))\n",
        "np.random.shuffle(train_indices)\n",
        "\n",
        "train_idx, val_idx = train_indices[split_value:], train_indices[:split_value]\n",
        "\n",
        "train_sampler = SubsetRandomSampler(train_idx)\n",
        "val_sampler = SubsetRandomSampler(val_idx)"
      ]
    },
    {
      "cell_type": "markdown",
      "metadata": {
        "id": "gqeo5E_dLAD4"
      },
      "source": [
        "[link text](https://)**Опишите своими словами, что делает каждая строчка кода в предыдущей ячейке.**\n",
        "\n",
        "Ваш ответ:\n",
        "\n",
        " Импортирует класс который позволяет создавать сэмплеры для выборки случайных подмножеств из набора данных.\n",
        "  указываем размер валидациооной выборки\n",
        "\n",
        " узнаем количесвто в трейн датасет\n",
        "\n",
        "создаем лист  с индексами\n",
        "перемешиваем индексы\n",
        "\n",
        "создаем сэмплеры с помощью перемешенных индексов   \n",
        ""
      ]
    },
    {
      "cell_type": "code",
      "execution_count": 40,
      "metadata": {
        "id": "Bq9fnX6ppC-V"
      },
      "outputs": [],
      "source": [
        "from torch.utils.data import DataLoader\n",
        "\n",
        "BATCH_SIZE = 128\n",
        "\n",
        "train_loader = DataLoader(train_dataset,batch_size=BATCH_SIZE,sampler  = train_sampler) # не забудьте использовать нужный sampler\n",
        "\n",
        "val_loader = DataLoader(train_dataset,batch_size=BATCH_SIZE,sampler  = val_sampler) # не забудьте использовать нужный sampler\n",
        "\n",
        "test_loader = DataLoader(test_dataset,batch_size=BATCH_SIZE)"
      ]
    },
    {
      "cell_type": "markdown",
      "metadata": {
        "id": "KdbG4_QkW1Xp"
      },
      "source": [
        "**Какую задачу решает Dataloader?**\n",
        "\n",
        "Ваш ответ:Dataloader помогает загружать данные для обучения модели.\n",
        "\n",
        "**Почему использование трех выборок (обучающей, валидационной, тестовой) считается хорошей практикой?**\n",
        "\n",
        "Ваш ответ:1. Обучающая выборка: используется для обучения модели.  \n",
        "\n",
        "2. Валидационная выборка: используется для оценки качества модели в процессе обучения.\n",
        "\n",
        "3. Тестовая выборка: используется для окончательной оценки  \n",
        "\n",
        "Использование трех выборок помогает избежать переобучения   и недообучения  модели\n"
      ]
    },
    {
      "cell_type": "markdown",
      "metadata": {
        "id": "1diJ0WPML5WJ"
      },
      "source": [
        "## Создание модели"
      ]
    },
    {
      "cell_type": "markdown",
      "metadata": {
        "id": "ISx1-JU_NIFA"
      },
      "source": [
        "За основу можно взять модель LeNet-5, но скорее всего вам придется ее адаптировать под свою задачу, так как в большинстве случаев она написана под черно-белые изображения размером 32 на 32 пикселя.\n",
        "\n",
        "Сверточные нейронные сети состоят из двух частей:\n",
        "1. Слои свертки(функции свертки, активации, субдискретизации)\n",
        "2. Полносвязные слои (MLP)\n",
        "\n",
        "Слои можно объединить с помощью `nn.Sequential()`. А класс вашей модели должен наследоваться от `nn.Module`.\n",
        "\n",
        "`def forward()` определяет прямой ход и должна возвращать итоговый результат работы модели - в данном случае логиты."
      ]
    },
    {
      "cell_type": "code",
      "execution_count": 41,
      "metadata": {
        "id": "KW3nfcAZL8XV"
      },
      "outputs": [],
      "source": [
        "import torch.nn as nn\n",
        "\n",
        "class ConvNet(nn.Module):\n",
        "    def __init__(self, num_classes):\n",
        "        super().__init__()\n",
        "        # Сверточные слои\n",
        "        self.layer1 = nn.Sequential(\n",
        "            nn.Conv2d(in_channels=3, out_channels=16, kernel_size=5, stride=1, padding=2),\n",
        "            nn.ReLU(),\n",
        "            nn.MaxPool2d(kernel_size=2, stride=2)\n",
        "        )\n",
        "        self.layer2 = nn.Sequential(\n",
        "            nn.Conv2d(in_channels=16, out_channels=32, kernel_size=5, stride=1, padding=2),\n",
        "            nn.ReLU(),\n",
        "            nn.MaxPool2d(kernel_size=2, stride=2)\n",
        "        )\n",
        "\n",
        "        # Полносвязные слои\n",
        "        self.fc1 = nn.Linear(32 * 7 * 7, 100)  # Уплощаем данные после сверточных слоев\n",
        "        self.fc2 = nn.Linear(100, num_classes)  # Выходной слой с количеством классов\n",
        "\n",
        "    def forward(self, x):\n",
        "        out = self.layer1(x)\n",
        "        out = self.layer2(out)\n",
        "        # Уплощаем данные перед полносвязными слоями\n",
        "        out = out.view(out.size(0), -1)\n",
        "        # Прямой проход через полносвязные слои\n",
        "        out = self.fc1(out)\n",
        "        out = nn.ReLU()(out)\n",
        "        out = self.fc2(out)\n",
        "        return out\n"
      ]
    },
    {
      "cell_type": "code",
      "source": [],
      "metadata": {
        "id": "ypQCn79UGMb8"
      },
      "execution_count": null,
      "outputs": []
    },
    {
      "cell_type": "markdown",
      "metadata": {
        "id": "W96DOSUzV43g"
      },
      "source": [
        "[link text](https://)**Опишите суть операции свертки.**\n",
        "\n",
        "Ваш ответ:Операция свертки: Это как использование фильтра на изображении, чтобы найти особенности, такие как грани или текстуры. Мы \"перетаскиваем\" этот фильтр по изображению и записываем, что видим. Например, если фильтр обнаруживает горизонтальные черты, то на выходе мы получаем новое изображение, где эти черты выделены.\n",
        "\n",
        "**Опишите суть операции субдискретизации.**\n",
        "\n",
        "Ваш ответ:Это когда мы уменьшаем размер изображения, выбирая самые яркие или самые \"важные\" пиксели из небольших областей. Это помогает упростить изображение, оставляя только основные детали и уменьшая его размер.\n",
        "\n"
      ]
    },
    {
      "cell_type": "markdown",
      "metadata": {
        "id": "dH1LAGLEN6T7"
      },
      "source": [
        "## Создание объекта модели, функции потерь и оптимизатора\n",
        "\n",
        "В качестве функции потерь будет использована перекрестная энтропия, в задании MLP вы фактически ее реализовали, но через набор отдельных функций.\n",
        "\n",
        "В качестве оптимизатора можете взять стохастический градиентный спуск или Adam."
      ]
    },
    {
      "cell_type": "code",
      "execution_count": 42,
      "metadata": {
        "id": "OJarp7KJN6pr"
      },
      "outputs": [],
      "source": [
        "num_classes = 10\n",
        "num_epochs = 10   # Пробуйте разные значения\n",
        "learning_rate = 0.005  # Пробуйте разные значения\n",
        "learning_rate = 1e-3\n",
        "model = ConvNet(num_classes)\n",
        "\n",
        "loss_fn = nn.CrossEntropyLoss()\n",
        "\n",
        "\n",
        "optimizer = torch.optim.SGD(model.parameters(), lr=learning_rate)"
      ]
    },
    {
      "cell_type": "markdown",
      "metadata": {
        "id": "R3d1eIAOPEiJ"
      },
      "source": [
        "## Цикл обучения\n",
        "\n",
        "Попробуйте разные гиперпараметры для вашей модели. Попробуйте улучшить результат от первой попытки.\n",
        "\n",
        "Вы можете по своему желанию добавить графики потерь и точности от эпохи."
      ]
    },
    {
      "cell_type": "code",
      "execution_count": 44,
      "metadata": {
        "id": "dLSoxR7ePE1_",
        "colab": {
          "base_uri": "https://localhost:8080/",
          "height": 1000
        },
        "outputId": "d67109b3-7406-4d65-a020-93fa8e3a686e"
      },
      "outputs": [
        {
          "output_type": "stream",
          "name": "stdout",
          "text": [
            "Epoch [1/15], Loss: 1.0135, Accuracy: 65.97%\n",
            "Epoch [2/15], Loss: 0.9508, Accuracy: 68.23%\n",
            "Epoch [3/15], Loss: 0.9106, Accuracy: 69.41%\n",
            "Epoch [4/15], Loss: 0.8876, Accuracy: 70.19%\n",
            "Epoch [5/15], Loss: 0.8653, Accuracy: 70.30%\n",
            "Epoch [6/15], Loss: 0.8296, Accuracy: 71.72%\n",
            "Epoch [7/15], Loss: 0.7832, Accuracy: 73.78%\n",
            "Epoch [8/15], Loss: 0.7735, Accuracy: 73.84%\n",
            "Epoch [9/15], Loss: 0.7391, Accuracy: 75.22%\n",
            "Epoch [10/15], Loss: 0.7353, Accuracy: 75.73%\n",
            "Epoch [11/15], Loss: 0.7206, Accuracy: 75.55%\n",
            "Epoch [12/15], Loss: 0.7136, Accuracy: 76.00%\n",
            "Epoch [13/15], Loss: 0.6951, Accuracy: 76.56%\n",
            "Epoch [14/15], Loss: 0.6472, Accuracy: 78.06%\n",
            "Epoch [15/15], Loss: 0.6555, Accuracy: 77.95%\n"
          ]
        },
        {
          "output_type": "display_data",
          "data": {
            "text/plain": [
              "<Figure size 640x480 with 1 Axes>"
            ],
            "image/png": "[encoded data removed]"
          },
          "metadata": {}
        },
        {
          "output_type": "display_data",
          "data": {
            "text/plain": [
              "<Figure size 640x480 with 1 Axes>"
            ],
            "image/png": "[encoded data removed]"
          },
          "metadata": {}
        }
      ],
      "source": [
        "import torch\n",
        "import torch.nn as nn\n",
        "import torch.optim as optim\n",
        "import matplotlib.pyplot as plt\n",
        "\n",
        "# Гиперпараметры\n",
        "num_epochs = 15\n",
        "learning_rate = 0.005\n",
        "\n",
        "# Определение функции потерь - перекрестная энтропия\n",
        "loss_fn = nn.CrossEntropyLoss()\n",
        "\n",
        "# Определение оптимизатора - Adam\n",
        "\n",
        "optimizer = torch.optim.Adam(model.parameters(), lr=learning_rate)\n",
        "#optimizer = torch.optim.SGD(model.parameters(), lr=learning_rate)\n",
        "# Пустые списки для хранения потерь и точности\n",
        "train_losses = []\n",
        "train_accuracies = []\n",
        "\n",
        "# Обучение модели\n",
        "for epoch in range(num_epochs):\n",
        "    model.train()  # Переводим модель в режим обучения\n",
        "    running_loss = 0.0\n",
        "    correct = 0\n",
        "    total = 0\n",
        "    for images, labels  in train_loader:\n",
        "        # Forward pass\n",
        "        outputs = model(images)\n",
        "        loss = loss_fn(outputs, labels)\n",
        "\n",
        "        # Backward pass и оптимизация\n",
        "        optimizer.zero_grad()\n",
        "        loss.backward()\n",
        "        optimizer.step()\n",
        "\n",
        "        # Сохранение статистики\n",
        "        running_loss += loss.item()\n",
        "        _, predicted = torch.max(outputs.data, 1)\n",
        "        total += labels.size(0)\n",
        "        correct += (predicted == labels).sum().item()\n",
        "\n",
        "    # Сохранение потерь и точности на обучающем наборе\n",
        "    train_loss = running_loss / len(train_loader)\n",
        "    train_accuracy = 100 * correct / total\n",
        "    train_losses.append(train_loss)\n",
        "    train_accuracies.append(train_accuracy)\n",
        "\n",
        "    # Вывод статистики\n",
        "    print(f'Epoch [{epoch+1}/{num_epochs}], Loss: {train_loss:.4f}, Accuracy: {train_accuracy:.2f}%')\n",
        "\n",
        "# Визуализация графиков потерь и точности\n",
        "plt.plot(range(1, num_epochs + 1), train_losses, label='Training Loss')\n",
        "plt.xlabel('Epochs')\n",
        "plt.ylabel('Loss')\n",
        "plt.title('Training Loss')\n",
        "plt.legend()\n",
        "plt.show()\n",
        "\n",
        "plt.plot(range(1, num_epochs + 1), train_accuracies, label='Training Accuracy')\n",
        "plt.xlabel('Epochs')\n",
        "plt.ylabel('Accuracy')\n",
        "plt.title('Training Accuracy')\n",
        "plt.legend()\n",
        "plt.show()\n"
      ]
    },
    {
      "cell_type": "markdown",
      "metadata": {
        "id": "YcqG7WGtPnCz"
      },
      "source": [
        "## Итоговая оценка\n",
        "\n",
        "Часть кода, которую вы реализовали для оценки модели на валидационной выборке, можно использовать для финальной проверки, указав нужный loader."
      ]
    },
    {
      "cell_type": "code",
      "execution_count": 30,
      "metadata": {
        "id": "iXZ7EfU7Pvtz",
        "colab": {
          "base_uri": "https://localhost:8080/"
        },
        "outputId": "6935a8d2-1761-46c0-bf9d-fcb0f543ee5b"
      },
      "outputs": [
        {
          "output_type": "stream",
          "name": "stdout",
          "text": [
            "Точность (accuracy) 29.0\n"
          ]
        }
      ],
      "source": [
        "with torch.no_grad():\n",
        "    model.eval()\n",
        "    correct = 0\n",
        "    total = 0\n",
        "    for images, labels in test_loader:\n",
        "        outputs = model(images)\n",
        "        _, predicted = torch.max(outputs.data, 1)\n",
        "        total += labels.size(0)\n",
        "        correct += (predicted == labels).sum().item()\n",
        "\n",
        "    print(f'Точность (accuracy) {100 * correct / total}')"
      ]
    },
    {
      "cell_type": "markdown",
      "metadata": {
        "id": "r5oB2n8VyNnT"
      },
      "source": [
        "**Точность работы модели на тестовой выборке**\n",
        "\n",
        "Ваш ответ:29"
      ]
    }
  ],
  "metadata": {
    "colab": {
      "provenance": [],
      "include_colab_link": true
    },
    "kernelspec": {
      "display_name": "Python 3",
      "name": "python3"
    },
    "language_info": {
      "name": "python"
    }
  },
  "nbformat": 4,
  "nbformat_minor": 0
}